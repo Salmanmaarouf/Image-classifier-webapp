{
 "cells": [
  {
   "cell_type": "code",
   "execution_count": null,
   "id": "dc1779f1-396c-4bc1-bd06-a8ee576251c2",
   "metadata": {},
   "outputs": [],
   "source": [
    "import numpy as np\n",
    "import pandas as pd\n",
    "import matplotlib.pyplot as plt\n",
    "import tenserflow as tf\n",
    "\n",
    "from tenserflow import keras\n",
    "from tenserflow.keras import layers"
   ]
  },
  {
   "cell_type": "code",
   "execution_count": null,
   "id": "bd03d2cf-945f-42cb-9643-bd13cbf0f906",
   "metadata": {},
   "outputs": [],
   "source": [
    "data_train_path = "
   ]
  }
 ],
 "metadata": {
  "kernelspec": {
   "display_name": "Python 3 (ipykernel)",
   "language": "python",
   "name": "python3"
  },
  "language_info": {
   "codemirror_mode": {
    "name": "ipython",
    "version": 3
   },
   "file_extension": ".py",
   "mimetype": "text/x-python",
   "name": "python",
   "nbconvert_exporter": "python",
   "pygments_lexer": "ipython3",
   "version": "3.12.4"
  }
 },
 "nbformat": 4,
 "nbformat_minor": 5
}
